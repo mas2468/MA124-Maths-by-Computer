{
 "cells": [
  {
   "cell_type": "markdown",
   "metadata": {},
   "source": [
    "# MA124 Maths by Computer: Assignment 1\n",
    "\n",
    "<font color='red'>Red denotes explanations and must be removed from the Markdown before submission</font> \n",
    "\n",
    "Student number: <font color='red'>DO NOT FORGET THIS!</font> \n",
    "\n",
    "---\n"
   ]
  },
  {
   "cell_type": "code",
   "execution_count": 5,
   "metadata": {},
   "outputs": [],
   "source": [
    "# Import standard libraries\n",
    "\n",
    "import numpy as np\n",
    "import matplotlib.pyplot as plt"
   ]
  },
  {
   "cell_type": "markdown",
   "metadata": {},
   "source": [
    "---\n",
    "\n",
    "## A. Taylor series approximations\n",
    "\n",
    "One can approximate $\\sin(x)$ using a finite number of terms of a Taylor series:\n",
    "\n",
    "$$\n",
    "\\sin(x) \\simeq \\sum_{n=0}^N (-1)^n\\frac{x^{2n+1}}{(2n+1)!} \n",
    "$$\n",
    "\n",
    "One can also approximate the natural logarithm $\\ln(1+x)$ using a finite number of terms of a Taylor series:\n",
    "\n",
    "$$\n",
    "\\log(1+x) \\simeq \\sum_{n=1}^N (-1)^{n+1} \\frac{x^n}{n}\n",
    "$$\n",
    "\n",
    "In this notebook we will explore these approximations, in particular how they depend on $N$. \n",
    "\n",
    "\n",
    "\n"
   ]
  },
  {
   "cell_type": "code",
   "execution_count": null,
   "metadata": {},
   "outputs": [],
   "source": []
  },
  {
   "cell_type": "markdown",
   "metadata": {},
   "source": [
    "---\n",
    "\n",
    "The figure below shows ...\n",
    "\n",
    "<font color='red'>\n",
    "If you prefer, put your description after the figure is plotted and use wording \"The figure above shows...\"\n",
    "</font>"
   ]
  },
  {
   "cell_type": "code",
   "execution_count": null,
   "metadata": {},
   "outputs": [],
   "source": [
    "# Generate plots comparing exact and Taylor approximations for sine\n"
   ]
  },
  {
   "cell_type": "markdown",
   "metadata": {},
   "source": [
    "<font color='red'>\n",
    "Your code will be short and you can assume the reader understands Python.\n",
    "For guidance, our model solution has 6 comment lines in addition to the first line above. You do not need a lot of comments for simple code.\n",
    "</font>"
   ]
  },
  {
   "cell_type": "markdown",
   "metadata": {},
   "source": [
    "---\n",
    "\n",
    "The figure below shows "
   ]
  },
  {
   "cell_type": "code",
   "execution_count": null,
   "metadata": {},
   "outputs": [],
   "source": [
    "# Generate plots comparing exact and Taylor approximations for the natural logarithm \n"
   ]
  },
  {
   "cell_type": "markdown",
   "metadata": {},
   "source": [
    "---\n",
    "\n",
    "### Error plots (Challenge section)\n",
    "\n",
    "<font color='red'>\n",
    "You are on your own here. Only do this after all other tasks have been completed.\n",
    "</font>"
   ]
  },
  {
   "cell_type": "markdown",
   "metadata": {},
   "source": [
    "---\n",
    "## B. Parametric roller coaster\n",
    "\n",
    "Here we present an original design for a parametric roller coaster. \n",
    "\n",
    "<font color='red'>State the parameterisation for the sections of your roller coaster. Then plot the roller coaster, print the beginning and end points, finally include a short description of it. </font> \n",
    "\n",
    "\n",
    "---"
   ]
  },
  {
   "cell_type": "code",
   "execution_count": null,
   "metadata": {},
   "outputs": [],
   "source": []
  }
 ],
 "metadata": {
  "kernelspec": {
   "display_name": "Python 3 (ipykernel)",
   "language": "python",
   "name": "python3"
  },
  "language_info": {
   "codemirror_mode": {
    "name": "ipython",
    "version": 3
   },
   "file_extension": ".py",
   "mimetype": "text/x-python",
   "name": "python",
   "nbconvert_exporter": "python",
   "pygments_lexer": "ipython3",
   "version": "3.9.7"
  }
 },
 "nbformat": 4,
 "nbformat_minor": 4
}
