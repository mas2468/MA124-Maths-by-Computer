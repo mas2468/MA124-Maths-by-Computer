{
 "cells": [
  {
   "cell_type": "markdown",
   "metadata": {},
   "source": [
    "# MA124 Maths by Computer: Assignment 3\n",
    "\n",
    "You will submit **two Jupyter notebooks**, one for each part.\n",
    "\n",
    "---\n",
    "\n",
    "## A. Monte Carlo Integration (10 marks)\n",
    "\n",
    "Consider the integral\n",
    "\n",
    "$$\n",
    "\\int_a^b f(x) \\, dx\n",
    "$$\n",
    "\n",
    "where $f(x) = -\\sin(x)/x$, $a=\\pi$ and $b = 4\\pi$. As noted [here](https://en.wikipedia.org/wiki/Nonelementary_integral), $\\sin(x)/x$ does not have an elementary antiderivative so we must use numerical methods to evaluate this integral.\n",
    "\n",
    "**Assignment:** Estimate the above integral using two Monte Carlo methods.\n",
    "\n",
    "1. Use Monte Carlo to estimate $\\bar f$, the mean value of $f$ over the interval $[a,b]$. From this estimate the integral. \n",
    "\n",
    "\n",
    "2. Use the fact that \n",
    "$$\n",
    "\\int_a^b f(x) \\, dx = \\text{signed area under the curve}\n",
    "$$\n",
    "\n",
    "where \"signed under the curve\" means the area between the curve $y = f(x)$ and the x axis, taking care of positive and negative contributions to the integral. See [here](https://en.wikipedia.org/wiki/Integral).   Use Monte Carlo to estimate the integral by estimating areas. \n",
    "    \n",
    "Details: \n",
    "- Approach 1 is straightforward. You can use $10^6$ samples to get a reasonably accurate estimate of $\\bar f$ and from this an estimate for the integral, but DO NOT PLOT THE SAMPLES! Report the value of the integral and produce a plot showing $y = f(x)$ and a rectangular box $[a,b] \\times [0,\\bar f]$.\n",
    "    \n",
    "- Approach 2 requires Monte Carlo samples in a rectangular region $[a,b] \\times [y_{min}, y_{max}]$, where $y_{min}$ and $y_{max}$ should be such as to contain the graph $y = f(x)$, but not too much larger. The graph partitions the rectangle into three types of regions - those that contribute positively to the integral, those that contributed negatively to the integral, and those that do not contribute. From the areas, estimate the integral and report the value. For a sample size of $N=2000$ (NOT LARGER!) produce a plot showing the Monte Carlo points coloured according to the type of region they are in. There should be three colours. Include on the plot the graph $y = f(x)$ and a line on the x axis. \n",
    "\n",
    "- Plot a small square with the average colour of the plot of Approach 2. "
   ]
  },
  {
   "cell_type": "markdown",
   "metadata": {
    "tags": []
   },
   "source": [
    "---\n",
    "\n",
    "## B. Geometric Brownian Motion (12 marks)\n",
    "\n",
    "\n",
    "The stochastic differential equation\n",
    "\n",
    "$$\n",
    "\\dot S(t) = \\mu S(t) + \\sigma S(t) \\xi(t)\n",
    "$$\n",
    "\n",
    "plays a central role in mathematical finance. This equation describes what is known as [Geometric Brownian Motion](https://en.wikipedia.org/wiki/Geometric_Brownian_motion).  $S(t)$ is taken to be positive and represents the value of a stock at time $t$. The deterministic ODE $\\dot S(t) = \\mu S(t)$, describes exponential growth in the value of a stock. We consider $\\mu > 0$ and refer to $\\mu$ as the growth rate. The term $\\sigma S(t) \\xi(t)$ describes fluctuations in the value of a stock. $\\xi(t)$ is a Gaussian random variable. The parameter $\\sigma > 0$ is known as the volatility. Notice that the fluctuating term contains $S(t)$ itself. This models the fact that fluctuations in a stock price are proportional to the price. \n",
    "\n",
    "Time $t$ is measured in years. Typical values for $\\mu$ are between $0.01$ and $0.10$, corresponding to 1% and 10% annual growth (non-compounded). We assume values for $\\sigma$ are between $0.1$ and $0.4$. \n",
    "\n",
    "\n",
    "[This](https://www.investopedia.com/articles/07/montecarlo.asp) and [this](https://www.investopedia.com/ask/answers/021015/how-can-you-calculate-volatility-excel.asp) are simple articles on [investopedia.com](https://www.investopedia.com) that might be of interest.\n",
    "\n",
    "\n",
    "**Assignment:** Write a Python function to solve the above SDE by Euler's method. Then call the function, plot and analyse the solution for one choice of parameter values $\\mu$ and $\\sigma$. \n",
    "\n",
    "Details: \n",
    "\n",
    "- Implementation:\n",
    "    - You must write a function `SDE_GBM(S0, tf, mu, sigma, Npaths)` that compute `Npaths` paths of the SDE and returns `t, S`. The function should not plot the results.\n",
    "    - `Nsteps` is not included as an argument to the function. `Nsteps` should be set to `365 * tf` corresponding to a time step of 1 day. (In practice it is common to use the number of trading days in a year, but we will use 365.)\n",
    "    - The implementation is a straightforward generalisation of the example SDEs in the Week 6 notebooks. Copy and modify those examples as needed. You need to include $S$ in the fluctuating term, but still use $\\sqrt{\\Delta t}$ as usual. \n",
    "\n",
    "\n",
    "- Parameters:\n",
    "    - Use a final time of $t_f = 5$, corresponding to 5 years. \n",
    "    - Decide the values you want to use for the parameters $\\mu$ and $\\sigma$ consistent with the discussion above.\n",
    "    - Take the initial stock price to be $S_0 = 100$. \n",
    "    \n",
    "    \n",
    "- Plots:    \n",
    "    - Plot `Npaths=100` sample paths $S(t)$. \n",
    "    - Now call your function with `Npaths = 2000`. Make a plot showing the mean +/- standard deviation for the 2000 paths as a function of time, as discussed in the Week 6 notebooks.\n",
    "    - With the same data as the previous item, plot histograms at three times, one of which should be the final time. (You might not want equally spaced times.) Either plot all three histograms on the same plot, or else in three plots all with the same limits on all plots (so that they can be compared). Print the mean and standard deviation for each of the histograms. \n",
    "    "
   ]
  },
  {
   "cell_type": "markdown",
   "metadata": {},
   "source": [
    "#### Challenge section (worth 4 of the 12 marks)\n",
    "\n",
    "The histograms you just plotted correspond to a known distribution. \n",
    "\n",
    "- Find this distribution and use SciPy or otherwise to generate and plot distributions on the histograms above.\n",
    "- Discuss how the mean of the distribution depends on time and give a financial interpretation. Explain why the median of the distribution is less than the mean."
   ]
  },
  {
   "cell_type": "markdown",
   "metadata": {},
   "source": [
    "---\n",
    "\n",
    "## Further 3 marks\n",
    "\n",
    "A further 3 marks will be awarded for each assignment based on overall quality and clarity of the submitted notebook. \n"
   ]
  },
  {
   "cell_type": "markdown",
   "metadata": {},
   "source": [
    "---\n",
    "\n",
    "## Submission\n",
    "\n",
    "You will submit **two Jupyter notebooks**, one for each part. **These must be `.ipynb` files, not pdf files or any other file type**. \n",
    "\n",
    "- The last thing you should do before submitting the notebooks is to Restart Kernel and Run All Cells. You should then save the notebooks and submit the .ipynb files. **You will lose one mark if you submit notebooks that have not been run.**\n",
    "\n",
    "- Short templates are provided to get you started.\n",
    "\n",
    "- A good guide for what the final notebooks should be like is: if the notebook is run and all code cells are collapsed, the notebook should be readable as a **short** report, primarily consisting of \n",
    "    - A short introduction describing what problem is being solved and briefly how.\n",
    "    - In the case of the Geometric Brownian Motion, specify the parameter values used. \n",
    "    - Describe each of the figures (this is very important).\n",
    "\n",
    "\n",
    "- Use the weekly notebooks as a guide for Python style. Make sure your functions have comments describing what they do. One assumes the reader understands Python. Add comments to set off blocks of code or to note anything tricky. In most cases Python code explains itself.\n",
    "\n",
    "---"
   ]
  },
  {
   "cell_type": "code",
   "execution_count": null,
   "metadata": {},
   "outputs": [],
   "source": []
  }
 ],
 "metadata": {
  "kernelspec": {
   "display_name": "Python 3 (ipykernel)",
   "language": "python",
   "name": "python3"
  },
  "language_info": {
   "codemirror_mode": {
    "name": "ipython",
    "version": 3
   },
   "file_extension": ".py",
   "mimetype": "text/x-python",
   "name": "python",
   "nbconvert_exporter": "python",
   "pygments_lexer": "ipython3",
   "version": "3.9.7"
  }
 },
 "nbformat": 4,
 "nbformat_minor": 4
}
