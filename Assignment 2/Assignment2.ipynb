{
 "cells": [
  {
   "cell_type": "markdown",
   "metadata": {},
   "source": [
    "# MA124 Maths by Computer: Assignment 2\n",
    "## The SIR model - flattening the curve \n",
    "\n",
    "---\n",
    "\n",
    "The [SIR model](https://en.wikipedia.org/wiki/Compartmental_models_in_epidemiology#The_SIR_model)  is given by the following system of ODEs\n",
    "\n",
    "$$\n",
    "\\dot S  = - \\frac{\\beta S I}{N}, \\quad \n",
    "\\dot I  = \\frac{\\beta S I}{N} - \\gamma I, \\quad \n",
    "\\dot R  = \\gamma I,\n",
    "$$\n",
    "\n",
    "where $S$ is the number of susceptible individuals, $I$ is the number of infectious individuals, $R$ is the number of recovered or removed individuals. $N$ is the total number of individuals, i.e. $N = S+I+R$. One can easily verify that $\\dot N = 0$ by adding the three equations. Hence $N$ is constant. $\\beta$ and $\\gamma$ are parameters: $\\beta$ is the average number of contacts per person per time, $\\gamma$ is the reciprocal of the time an individual remains infectious. We are potentially interested in cases where the parameter $\\beta$ is not constant in time.\n",
    "\n",
    "The SIR model can be used to understand important aspect of infectious diseases such as Covid-19. In particular it can be used to understand interventions that [flatten the curve](https://en.wikipedia.org/wiki/Flattening_the_curve)."
   ]
  },
  {
   "cell_type": "markdown",
   "metadata": {},
   "source": [
    "---\n",
    "\n",
    "## Part A. Baseline case (4 marks)\n",
    "\n",
    "**Assignment:** Using Python, solve the above SIR model and examine the solution for one set of parameter values and one initial condition.\n",
    "\n",
    "Details: \n",
    "- Use the following parameter values for the baseline case:\n",
    "$\\beta = 0.3$ and $\\gamma = 0.1$, corresponding to $R_0 = 3$. Use the initial conditions $S(0) = 10^6 - 5$, $I(0) = 5$, and $R(0) = 0$. \n",
    "\n",
    "- Produce two plots: a time series showing $S(t)$, $R(t)$, $I(t)$ and a phase portrait in the $(S,I)$ plane.\n",
    "\n",
    "- On the phase portrait, indicate the point on the trajectory where $I$ reaches its maximum. (You will have to work out how to find this maximum point.) This is the peak in the infection curve. Print this maximum value.\n",
    "\n",
    "You are expected to use the material in the SIR case study as a starting point. Hence there is little new to do here except compute, plot and print the maximum value of $I$. Hint you should find the appropriate NumPy function that helps with this. You will need not only the maximum of $I$, but also the value of $S$ where that maximum occurs. Google around if you need to. DO NOT USE A FOR LOOP!\n",
    "\n",
    "The next two parts of the assignment will consider ways to reduce the peak value of the infection curve, i.e., flatten the curve. "
   ]
  },
  {
   "cell_type": "markdown",
   "metadata": {
    "jp-MarkdownHeadingCollapsed": true,
    "tags": []
   },
   "source": [
    "---\n",
    "\n",
    "## Part B. Prior immunity (8 marks)\n",
    "\n",
    "One can study the basic effect of immunity with the SIR model by starting from an initial condition in which a percentage of the population is in the $R$ class already. Think of these as individuals who have been removed from $S$ and put into $R$, either because they have prior natural immunity or because they have been vaccinated. Either way, they are immune and hence not susceptible at the start of the disease outbreak. \n",
    "\n",
    "**Assignment:** Illustrate how prior immunity flattens the curve by solving the ODE for a case with prior immunity and comparing with the baseline case.\n",
    "\n",
    "Details: \n",
    "- The parameter values and total population size are as for the baseline case. The initial value $R(0)$ is your choice. $I(0) = 5$ as before. $S(0)$ is whatever it needs to be so that $N=10^6$. You should run some cases with different $R(0)$ and decide a value you like. Values in the range of 10% to 25% of the total population $N$ are good. You can try $R(0)$ greater than 25% of $N$, but for the report do not exceed 25%. \n",
    "\n",
    "- Produce two plots: a time series and a phase portrait. In each you want to show the baseline case and the prior immunity case. Hence six curves in the time series and two curves in the phase portrait. For the time series in particular you may need to vary line types to make things clear. Use legends. \n",
    "\n",
    "- On the phase portrait, indicate the points on each trajectory where $I$ reaches its maximum. Print these maximum values for each to quantify how much the curve is flattened.\n",
    "\n",
    "- Optional (but recommended): Produce a third plot showing the time series for $I(t)$ with and without prior immunity. By excluding $S(t)$ and $R(t)$, the comparison between the two infection curves is clearer. Hopefully you have flattened the curve.\n",
    "\n",
    "Hint: you obviously will copy-paste code from Part A. You should use new variables for the prior-immunity case such that the baseline solution computed in Part A is not somehow overwritten. Then all you need to do is solve the ODE for the new initial conditions and produce nice comparison plots. "
   ]
  },
  {
   "cell_type": "markdown",
   "metadata": {
    "tags": []
   },
   "source": [
    "---\n",
    "\n",
    "## Part C. Social distancing (10 marks)\n",
    "\n",
    "One can model [social distancing](https://en.wikipedia.org/wiki/Social_distancing), or a mask mandate, by varying the parameter $\\beta$ that controls the rate of infection. We will use the following simple approximation. When a mask mandate is in effect, the parameter $\\beta$ will be reduced to 0.24, otherwise it will be 0.3, as in the baseline case. More specifically, we will consider $\\beta$ to change between these two values according to:\n",
    "\n",
    "$$\n",
    "\\beta = 0.3 \\quad {\\rm if} \\quad t \\le t_{m} \\\\\n",
    "\\beta = 0.24 \\quad {\\rm if} \\quad t_{m} < t \\le t_{m}+30 \\\\\n",
    "\\beta = 0.3 \\quad {\\rm if} \\quad t_{m}+30 < t \n",
    "$$\n",
    "\n",
    "$t_m$ corresponds to the time the mask mandate goes into effect. We consider a 30-day mandate period and so $t_m+30$ corresponds to the time the mask mandate is lifted. \n",
    "\n",
    "In principle one need not restrict to such specific circumstances, but this will simplify things. Note, that with $\\beta$ varying with time, the ODE is no longer autonomous.\n",
    "\n",
    "**Assignment:** Write a Python function to compute the right-hand-side of the SIR model with time-dependent $\\beta$ given by the above expression. Solve the ODE for different values of $t_m$ and find a value of $t_m$ that gives the smallest value for maximum value of $I$, i.e., find $t_m$ that most flattens the curve. Plot this solution and compare with the baseline case.\n",
    "\n",
    "Details: \n",
    "\n",
    "- As for the baseline case, use $\\gamma = 0.1$ and the initial condition:\n",
    "$S(0) = 10^6 - 5$, $I(0) = 5$, and $R(0) = 0$.\n",
    "\n",
    "- You do not need to write Python code to search over different values of $t_m$. Use trial and error. Also, you do not need to find the exact best value of $t_m$ but find a value that is within $\\pm 5$ days of the best choice. You do not need to show how you determined $t_m$. One you have decided $t_m$, set that value in your function. \n",
    "\n",
    "- Produce two plots: a time series and a phase portrait. In each you want to show the baseline case and the mask-mandate case. Hence six curves in the time series and two curves in the phase portrait. For the time series in particular you may need to vary line types to make things clear. Use legends. \n",
    "\n",
    "- On the phase portrait, indicate the points on each trajectory where $I$ reaches its maximum. Print these maximum values for each to quantify how much the curve is flattened.\n",
    "\n",
    "- Optional (but recommended): Produce a third plot showing the time series for $I(t)$ with and without the mask mandate. The comparison between the two infection curves is clearer. Hopefully you have flattened the curve.\n",
    "\n",
    "Note, if you have more experience with programming, you may use some more sophisticated methods to programme the time dependence of $\\beta$ in your right-hand-side function."
   ]
  },
  {
   "cell_type": "markdown",
   "metadata": {
    "tags": []
   },
   "source": [
    "---\n",
    "\n",
    "## Further 3 marks\n",
    "\n",
    "A further 3 marks will be awarded for each assignment based on overall quality and clarity of the submitted notebook. \n"
   ]
  },
  {
   "cell_type": "markdown",
   "metadata": {},
   "source": [
    "---\n",
    "\n",
    "## Submission\n",
    "\n",
    "You will submit a single Jupyter notebook. \n",
    "\n",
    "- The last thing you should do before submitting the notebook is to Restart Kernel and Run All Cells. You should then save the notebook and submit the .ipynb file. **You will lose one mark if you submit a notebook that has not been run.**\n",
    "\n",
    "- A template is not provided. You are expected to begin from the SIR model case study.\n",
    "\n",
    "- There are no challenge marks this week and hopefully everyone will be able to get high marks on the assignment.\n",
    "\n",
    "- Clearly this assignment lends itself to producing a nice document. A good guide for what the final notebook should be like is: if the notebook is run and all code cells are collapsed, the notebook should be readable as a **short** report, primarily consisting of a short intro to each section followed by figures and descriptions of the figures. Think of the Markdown content as extended figure captions. Use the SIR model case study as a guide.\n",
    "\n",
    "- Use should also use the comments in the SIR model case study as a guide to the level of comments expected. Each code cell should begin with a comment line or lines concisely stating what the cell is for. Functions should have comments or docstrings describing what they do. One assumes the reader understands Python. Add comments to set off blocks of code or to note anything tricky. In most cases Python code explains itself and does not need comments.\n",
    "\n",
    "---"
   ]
  },
  {
   "cell_type": "code",
   "execution_count": null,
   "metadata": {},
   "outputs": [],
   "source": []
  }
 ],
 "metadata": {
  "kernelspec": {
   "display_name": "Python 3 (ipykernel)",
   "language": "python",
   "name": "python3"
  },
  "language_info": {
   "codemirror_mode": {
    "name": "ipython",
    "version": 3
   },
   "file_extension": ".py",
   "mimetype": "text/x-python",
   "name": "python",
   "nbconvert_exporter": "python",
   "pygments_lexer": "ipython3",
   "version": "3.9.7"
  }
 },
 "nbformat": 4,
 "nbformat_minor": 4
}
